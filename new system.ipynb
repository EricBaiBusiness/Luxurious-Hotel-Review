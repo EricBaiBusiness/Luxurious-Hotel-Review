{
 "cells": [
  {
   "cell_type": "code",
   "execution_count": 2,
   "metadata": {},
   "outputs": [
    {
     "name": "stdout",
     "output_type": "stream",
     "text": [
      "Please provide your Kaggle credentials to download this dataset. Learn more: http://bit.ly/kaggle-creds\n",
      "Your Kaggle username:Your Kaggle Key:Downloading cleaned-hotel-review-for-ba820.zip to ./cleaned-hotel-review-for-ba820\n"
     ]
    },
    {
     "name": "stderr",
     "output_type": "stream",
     "text": [
      "100%|██████████| 45.1M/45.1M [00:01<00:00, 31.4MB/s]\n"
     ]
    },
    {
     "name": "stdout",
     "output_type": "stream",
     "text": [
      "\n"
     ]
    }
   ],
   "source": [
    "# Download the dataset from Kaggle using the Kaggle API\n",
    "\n",
    "import opendatasets as od\n",
    "\n",
    "# Eric's Kaggle API key\n",
    "# \"username\":\"ericthedataguy\",\n",
    "# \"key\":\"875c0de0faea2fefa081c78eb470a347\"\n",
    "\n",
    "url_cleaned = 'https://www.kaggle.com/datasets/ericthedataguy/cleaned-hotel-review-for-ba820'\n",
    "\n",
    "od.download(url_cleaned)"
   ]
  },
  {
   "cell_type": "code",
   "execution_count": 4,
   "metadata": {},
   "outputs": [
    {
     "name": "stdout",
     "output_type": "stream",
     "text": [
      "<class 'pandas.core.frame.DataFrame'>\n",
      "RangeIndex: 515738 entries, 0 to 515737\n",
      "Data columns (total 17 columns):\n",
      " #   Column                                      Non-Null Count   Dtype  \n",
      "---  ------                                      --------------   -----  \n",
      " 0   Hotel_Address                               515738 non-null  object \n",
      " 1   Additional_Number_of_Scoring                515738 non-null  int64  \n",
      " 2   Review_Date                                 515738 non-null  object \n",
      " 3   Average_Score                               515738 non-null  float64\n",
      " 4   Hotel_Name                                  515738 non-null  object \n",
      " 5   Reviewer_Nationality                        515738 non-null  object \n",
      " 6   Negative_Review                             515738 non-null  object \n",
      " 7   Review_Total_Negative_Word_Counts           515738 non-null  int64  \n",
      " 8   Total_Number_of_Reviews                     515738 non-null  int64  \n",
      " 9   Positive_Review                             515738 non-null  object \n",
      " 10  Review_Total_Positive_Word_Counts           515738 non-null  int64  \n",
      " 11  Total_Number_of_Reviews_Reviewer_Has_Given  515738 non-null  int64  \n",
      " 12  Reviewer_Score                              515738 non-null  float64\n",
      " 13  Tags                                        515738 non-null  object \n",
      " 14  days_since_review                           515738 non-null  object \n",
      " 15  Longitude                                   515738 non-null  float64\n",
      " 16  Latitude                                    515738 non-null  float64\n",
      "dtypes: float64(4), int64(5), object(8)\n",
      "memory usage: 66.9+ MB\n"
     ]
    }
   ],
   "source": [
    "# Read the dataset into a pandas dataframe\n",
    "\n",
    "import pandas as pd\n",
    "\n",
    "filepath = '/Users/hakukazuho/Luxurious-Hotel-Review-1/cleaned-hotel-review-for-ba820/hotel_reviews_cleaned.csv'\n",
    "df = pd.read_csv(filepath)\n",
    "df.info()"
   ]
  },
  {
   "cell_type": "code",
   "execution_count": 5,
   "metadata": {},
   "outputs": [
    {
     "data": {
      "text/plain": [
       "499831"
      ]
     },
     "execution_count": 5,
     "metadata": {},
     "output_type": "execute_result"
    }
   ],
   "source": [
    "# Drop outliers in the 'Reviewer_Score' column\n",
    "\n",
    "# Calculate the IQR\n",
    "Q1 = df['Reviewer_Score'].quantile(0.25)\n",
    "Q3 = df['Reviewer_Score'].quantile(0.75)\n",
    "IQR = Q3 - Q1\n",
    "\n",
    "# Define the lower and upper bounds for outliers\n",
    "lower_bound = Q1 - 1.5 * IQR\n",
    "upper_bound = Q3 + 1.5 * IQR\n",
    "\n",
    "# Drop the outliers and store the results in df_drop\n",
    "df_drop = df[(df['Reviewer_Score'] >= lower_bound) & (df['Reviewer_Score'] <= upper_bound)]\n",
    "df_drop.shape[0]\n"
   ]
  },
  {
   "cell_type": "code",
   "execution_count": 10,
   "metadata": {},
   "outputs": [
    {
     "data": {
      "text/plain": [
       "Positive_Review\n",
       "No real complaints the hotel was great great location surroundings rooms amenities and service Two recommendations however firstly the staff upon check in are very confusing regarding deposit payments and the staff offer you upon checkout to refund your original payment and you can make a new one Bit confusing Secondly the on site restaurant is a bit lacking very well thought out and excellent quality food for anyone of a vegetarian or vegan background but even a wrap or toasted sandwich option would be great Aside from those minor minor things fantastic spot and will be back when i return to Amsterdam     1\n",
       "The staff were nice and the room was nicely sized with reasonably priced minibar items                                                                                                                                                                                                                                                                                                                                                                                                                                                                                                                                                1\n",
       "Room was excellent a suite rather than a room                                                                                                                                                                                                                                                                                                                                                                                                                                                                                                                                                                                         1\n",
       "Quality price ratio is good                                                                                                                                                                                                                                                                                                                                                                                                                                                                                                                                                                                                           1\n",
       "Kind staff with good room and free parking on the street in the area                                                                                                                                                                                                                                                                                                                                                                                                                                                                                                                                                                  1\n",
       "The rooms were very clean and kept clean through our stay The cleaners visited our rooms at around 11am and were happy to come later when this was requested                                                                                                                                                                                                                                                                                                                                                                                                                                                                          1\n",
       "Lovely residential neighborhood close to Metro bus and market staff was extremely helpful always                                                                                                                                                                                                                                                                                                                                                                                                                                                                                                                                      1\n",
       "In a very convenient location Very nice rooms wonderful beds we loved our kitchen and extra space Really nice staff you could not ask for more and such a reasonable price We cannot wait to come back                                                                                                                                                                                                                                                                                                                                                                                                                                1\n",
       "Friendly clean and functional hotel                                                                                                                                                                                                                                                                                                                                                                                                                                                                                                                                                                                                   1\n",
       "Quiet Good bus connection with the U4 station Nice neighbourhood Travel time to Karl s Platz around 25 minutes                                                                                                                                                                                                                                                                                                                                                                                                                                                                                                                        1\n",
       "Name: count, dtype: int64"
      ]
     },
     "execution_count": 10,
     "metadata": {},
     "output_type": "execute_result"
    }
   ],
   "source": [
    "df_drop['Positive_Review'].value_counts(ascending=True).head(10)"
   ]
  },
  {
   "cell_type": "code",
   "execution_count": 11,
   "metadata": {},
   "outputs": [
    {
     "name": "stdout",
     "output_type": "stream",
     "text": [
      "<class 'pandas.core.frame.DataFrame'>\n",
      "Index: 499831 entries, 1 to 515737\n",
      "Data columns (total 17 columns):\n",
      " #   Column                                      Non-Null Count   Dtype  \n",
      "---  ------                                      --------------   -----  \n",
      " 0   Hotel_Address                               499831 non-null  object \n",
      " 1   Additional_Number_of_Scoring                499831 non-null  int64  \n",
      " 2   Review_Date                                 499831 non-null  object \n",
      " 3   Average_Score                               499831 non-null  float64\n",
      " 4   Hotel_Name                                  499831 non-null  object \n",
      " 5   Reviewer_Nationality                        499831 non-null  object \n",
      " 6   Negative_Review                             499831 non-null  object \n",
      " 7   Review_Total_Negative_Word_Counts           499831 non-null  int64  \n",
      " 8   Total_Number_of_Reviews                     499831 non-null  int64  \n",
      " 9   Positive_Review                             499831 non-null  object \n",
      " 10  Review_Total_Positive_Word_Counts           499831 non-null  int64  \n",
      " 11  Total_Number_of_Reviews_Reviewer_Has_Given  499831 non-null  int64  \n",
      " 12  Reviewer_Score                              499831 non-null  float64\n",
      " 13  Tags                                        499831 non-null  object \n",
      " 14  days_since_review                           499831 non-null  object \n",
      " 15  Longitude                                   499831 non-null  float64\n",
      " 16  Latitude                                    499831 non-null  float64\n",
      "dtypes: float64(4), int64(5), object(8)\n",
      "memory usage: 68.6+ MB\n"
     ]
    }
   ],
   "source": [
    "df_drop.info()"
   ]
  },
  {
   "cell_type": "code",
   "execution_count": 17,
   "metadata": {},
   "outputs": [
    {
     "name": "stdout",
     "output_type": "stream",
     "text": [
      "<class 'pandas.core.frame.DataFrame'>\n",
      "Index: 1000 entries, 1 to 1034\n",
      "Data columns (total 4 columns):\n",
      " #   Column           Non-Null Count  Dtype \n",
      "---  ------           --------------  ----- \n",
      " 0   Hotel_Name       1000 non-null   object\n",
      " 1   Negative_Review  1000 non-null   object\n",
      " 2   Positive_Review  1000 non-null   object\n",
      " 3   Tags             1000 non-null   object\n",
      "dtypes: object(4)\n",
      "memory usage: 39.1+ KB\n"
     ]
    }
   ],
   "source": [
    "# Create subset for reccomendation system 1.0\n",
    "\n",
    "df2_col_list = ['Hotel_Name', 'Negative_Review', 'Positive_Review', 'Tags']\n",
    "df2 = df_drop[df2_col_list].iloc[:1000]\n",
    "df2.info()"
   ]
  },
  {
   "cell_type": "code",
   "execution_count": 18,
   "metadata": {},
   "outputs": [
    {
     "name": "stderr",
     "output_type": "stream",
     "text": [
      "[nltk_data] Downloading package punkt to\n",
      "[nltk_data]     /Users/hakukazuho/nltk_data...\n",
      "[nltk_data]   Package punkt is already up-to-date!\n"
     ]
    },
    {
     "data": {
      "text/html": [
       "<div>\n",
       "<style scoped>\n",
       "    .dataframe tbody tr th:only-of-type {\n",
       "        vertical-align: middle;\n",
       "    }\n",
       "\n",
       "    .dataframe tbody tr th {\n",
       "        vertical-align: top;\n",
       "    }\n",
       "\n",
       "    .dataframe thead th {\n",
       "        text-align: right;\n",
       "    }\n",
       "</style>\n",
       "<table border=\"1\" class=\"dataframe\">\n",
       "  <thead>\n",
       "    <tr style=\"text-align: right;\">\n",
       "      <th></th>\n",
       "      <th>Hotel_Name</th>\n",
       "      <th>Negative_Review</th>\n",
       "      <th>Positive_Review</th>\n",
       "      <th>Tags</th>\n",
       "    </tr>\n",
       "  </thead>\n",
       "  <tbody>\n",
       "    <tr>\n",
       "      <th>1</th>\n",
       "      <td>Hotel Arena</td>\n",
       "      <td>[[No, Negative]]</td>\n",
       "      <td>[[No, real, complaints, the, hotel, was, great...</td>\n",
       "      <td>[' Leisure trip ', ' Couple ', ' Duplex Double...</td>\n",
       "    </tr>\n",
       "    <tr>\n",
       "      <th>2</th>\n",
       "      <td>Hotel Arena</td>\n",
       "      <td>[[Rooms, are, nice, but, for, elderly, a, bit,...</td>\n",
       "      <td>[[Location, was, good, and, staff, were, ok, I...</td>\n",
       "      <td>[' Leisure trip ', ' Family with young childre...</td>\n",
       "    </tr>\n",
       "    <tr>\n",
       "      <th>4</th>\n",
       "      <td>Hotel Arena</td>\n",
       "      <td>[[You, When, I, booked, with, your, company, o...</td>\n",
       "      <td>[[Amazing, location, and, building, Romantic, ...</td>\n",
       "      <td>[' Leisure trip ', ' Couple ', ' Suite ', ' St...</td>\n",
       "    </tr>\n",
       "    <tr>\n",
       "      <th>5</th>\n",
       "      <td>Hotel Arena</td>\n",
       "      <td>[[Backyard, of, the, hotel, is, total, mess, s...</td>\n",
       "      <td>[[Good, restaurant, with, modern, design, grea...</td>\n",
       "      <td>[' Leisure trip ', ' Group ', ' Duplex Double ...</td>\n",
       "    </tr>\n",
       "    <tr>\n",
       "      <th>6</th>\n",
       "      <td>Hotel Arena</td>\n",
       "      <td>[[Cleaner, did, not, change, our, sheet, and, ...</td>\n",
       "      <td>[[The, room, is, spacious, and, bright, The, h...</td>\n",
       "      <td>[' Leisure trip ', ' Group ', ' Duplex Twin Ro...</td>\n",
       "    </tr>\n",
       "  </tbody>\n",
       "</table>\n",
       "</div>"
      ],
      "text/plain": [
       "    Hotel_Name                                    Negative_Review  \\\n",
       "1  Hotel Arena                                   [[No, Negative]]   \n",
       "2  Hotel Arena  [[Rooms, are, nice, but, for, elderly, a, bit,...   \n",
       "4  Hotel Arena  [[You, When, I, booked, with, your, company, o...   \n",
       "5  Hotel Arena  [[Backyard, of, the, hotel, is, total, mess, s...   \n",
       "6  Hotel Arena  [[Cleaner, did, not, change, our, sheet, and, ...   \n",
       "\n",
       "                                     Positive_Review  \\\n",
       "1  [[No, real, complaints, the, hotel, was, great...   \n",
       "2  [[Location, was, good, and, staff, were, ok, I...   \n",
       "4  [[Amazing, location, and, building, Romantic, ...   \n",
       "5  [[Good, restaurant, with, modern, design, grea...   \n",
       "6  [[The, room, is, spacious, and, bright, The, h...   \n",
       "\n",
       "                                                Tags  \n",
       "1  [' Leisure trip ', ' Couple ', ' Duplex Double...  \n",
       "2  [' Leisure trip ', ' Family with young childre...  \n",
       "4  [' Leisure trip ', ' Couple ', ' Suite ', ' St...  \n",
       "5  [' Leisure trip ', ' Group ', ' Duplex Double ...  \n",
       "6  [' Leisure trip ', ' Group ', ' Duplex Twin Ro...  "
      ]
     },
     "execution_count": 18,
     "metadata": {},
     "output_type": "execute_result"
    }
   ],
   "source": [
    "import nltk\n",
    "from nltk.tokenize import sent_tokenize, word_tokenize\n",
    "nltk.download('punkt')\n",
    "\n",
    "# Tokenize the Negative_Review column into sentences\n",
    "df2['Negative_Review'] = df2['Negative_Review'].apply(lambda x: sent_tokenize(x))\n",
    "\n",
    "# Tokenize the Positive_Review column into sentences\n",
    "df2['Positive_Review'] = df2['Positive_Review'].apply(lambda x: sent_tokenize(x))\n",
    "\n",
    "# Tokenize the Negative_Review column into words\n",
    "df2['Negative_Review'] = df2['Negative_Review'].apply(lambda x: [word_tokenize(sentence) for sentence in x])\n",
    "\n",
    "# Tokenize the Positive_Review column into words\n",
    "df2['Positive_Review'] = df2['Positive_Review'].apply(lambda x: [word_tokenize(sentence) for sentence in x])\n",
    "\n",
    "df2.head()\n"
   ]
  },
  {
   "cell_type": "code",
   "execution_count": 21,
   "metadata": {},
   "outputs": [
    {
     "data": {
      "text/html": [
       "<div>\n",
       "<style scoped>\n",
       "    .dataframe tbody tr th:only-of-type {\n",
       "        vertical-align: middle;\n",
       "    }\n",
       "\n",
       "    .dataframe tbody tr th {\n",
       "        vertical-align: top;\n",
       "    }\n",
       "\n",
       "    .dataframe thead th {\n",
       "        text-align: right;\n",
       "    }\n",
       "</style>\n",
       "<table border=\"1\" class=\"dataframe\">\n",
       "  <thead>\n",
       "    <tr style=\"text-align: right;\">\n",
       "      <th></th>\n",
       "      <th>Hotel_Name</th>\n",
       "      <th>Negative_Review</th>\n",
       "      <th>Positive_Review</th>\n",
       "      <th>Tags</th>\n",
       "    </tr>\n",
       "  </thead>\n",
       "  <tbody>\n",
       "    <tr>\n",
       "      <th>1</th>\n",
       "      <td>Hotel Arena</td>\n",
       "      <td>[No, Negative]</td>\n",
       "      <td>[No, real, complaints, the, hotel, was, great,...</td>\n",
       "      <td>[' Leisure trip ', ' Couple ', ' Duplex Double...</td>\n",
       "    </tr>\n",
       "    <tr>\n",
       "      <th>2</th>\n",
       "      <td>Hotel Arena</td>\n",
       "      <td>[Rooms, are, nice, but, for, elderly, a, bit, ...</td>\n",
       "      <td>[Location, was, good, and, staff, were, ok, It...</td>\n",
       "      <td>[' Leisure trip ', ' Family with young childre...</td>\n",
       "    </tr>\n",
       "    <tr>\n",
       "      <th>4</th>\n",
       "      <td>Hotel Arena</td>\n",
       "      <td>[You, When, I, booked, with, your, company, on...</td>\n",
       "      <td>[Amazing, location, and, building, Romantic, s...</td>\n",
       "      <td>[' Leisure trip ', ' Couple ', ' Suite ', ' St...</td>\n",
       "    </tr>\n",
       "    <tr>\n",
       "      <th>5</th>\n",
       "      <td>Hotel Arena</td>\n",
       "      <td>[Backyard, of, the, hotel, is, total, mess, sh...</td>\n",
       "      <td>[Good, restaurant, with, modern, design, great...</td>\n",
       "      <td>[' Leisure trip ', ' Group ', ' Duplex Double ...</td>\n",
       "    </tr>\n",
       "    <tr>\n",
       "      <th>6</th>\n",
       "      <td>Hotel Arena</td>\n",
       "      <td>[Cleaner, did, not, change, our, sheet, and, d...</td>\n",
       "      <td>[The, room, is, spacious, and, bright, The, ho...</td>\n",
       "      <td>[' Leisure trip ', ' Group ', ' Duplex Twin Ro...</td>\n",
       "    </tr>\n",
       "  </tbody>\n",
       "</table>\n",
       "</div>"
      ],
      "text/plain": [
       "    Hotel_Name                                    Negative_Review  \\\n",
       "1  Hotel Arena                                     [No, Negative]   \n",
       "2  Hotel Arena  [Rooms, are, nice, but, for, elderly, a, bit, ...   \n",
       "4  Hotel Arena  [You, When, I, booked, with, your, company, on...   \n",
       "5  Hotel Arena  [Backyard, of, the, hotel, is, total, mess, sh...   \n",
       "6  Hotel Arena  [Cleaner, did, not, change, our, sheet, and, d...   \n",
       "\n",
       "                                     Positive_Review  \\\n",
       "1  [No, real, complaints, the, hotel, was, great,...   \n",
       "2  [Location, was, good, and, staff, were, ok, It...   \n",
       "4  [Amazing, location, and, building, Romantic, s...   \n",
       "5  [Good, restaurant, with, modern, design, great...   \n",
       "6  [The, room, is, spacious, and, bright, The, ho...   \n",
       "\n",
       "                                                Tags  \n",
       "1  [' Leisure trip ', ' Couple ', ' Duplex Double...  \n",
       "2  [' Leisure trip ', ' Family with young childre...  \n",
       "4  [' Leisure trip ', ' Couple ', ' Suite ', ' St...  \n",
       "5  [' Leisure trip ', ' Group ', ' Duplex Double ...  \n",
       "6  [' Leisure trip ', ' Group ', ' Duplex Twin Ro...  "
      ]
     },
     "execution_count": 21,
     "metadata": {},
     "output_type": "execute_result"
    }
   ],
   "source": [
    "# Function to flatten a list of lists\n",
    "def flatten_list_of_lists(list_of_lists):\n",
    "    return [item for sublist in list_of_lists for item in sublist]\n",
    "\n",
    "# Apply the function to each row in the DataFrame column\n",
    "df2['Negative_Review'] = df2['Negative_Review'].apply(flatten_list_of_lists)\n",
    "df2['Positive_Review'] = df2['Positive_Review'].apply(flatten_list_of_lists)\n",
    "df2.head()"
   ]
  },
  {
   "cell_type": "markdown",
   "metadata": {},
   "source": [
    "### What's Next?\n",
    "\n",
    "1. Tags and Review have different format\n",
    "\n",
    "2. Extract keywords from Reviews\n",
    "\n",
    "3. Store keywords to negative/positive tag pools"
   ]
  },
  {
   "cell_type": "code",
   "execution_count": null,
   "metadata": {},
   "outputs": [],
   "source": []
  }
 ],
 "metadata": {
  "kernelspec": {
   "display_name": "Python 3",
   "language": "python",
   "name": "python3"
  },
  "language_info": {
   "codemirror_mode": {
    "name": "ipython",
    "version": 3
   },
   "file_extension": ".py",
   "mimetype": "text/x-python",
   "name": "python",
   "nbconvert_exporter": "python",
   "pygments_lexer": "ipython3",
   "version": "3.11.4"
  }
 },
 "nbformat": 4,
 "nbformat_minor": 2
}
