{
  "cells": [
    {
      "cell_type": "markdown",
      "source": [
        "GitHub Link:\n",
        "https://github.com/EricBaiBusiness/Luxurious-Hotel-Review"
      ],
      "metadata": {
        "id": "i_mZm7S67Igy"
      }
    },
    {
      "cell_type": "markdown",
      "metadata": {
        "id": "j3ISUr7puCrz"
      },
      "source": [
        "# Dataset Upload"
      ]
    },
    {
      "cell_type": "code",
      "source": [
        "!pip install opendatasets"
      ],
      "metadata": {
        "colab": {
          "base_uri": "https://localhost:8080/"
        },
        "outputId": "424ebd88-f495-4b35-deb0-2aea067c424e",
        "id": "omGZ7ByhC6iV"
      },
      "execution_count": 9,
      "outputs": [
        {
          "output_type": "stream",
          "name": "stderr",
          "text": [
            "/usr/local/lib/python3.10/dist-packages/ipykernel/ipkernel.py:283: DeprecationWarning: `should_run_async` will not call `transform_cell` automatically in the future. Please pass the result to `transformed_cell` argument and any exception that happen during thetransform in `preprocessing_exc_tuple` in IPython 7.17 and above.\n",
            "  and should_run_async(code)\n"
          ]
        },
        {
          "output_type": "stream",
          "name": "stdout",
          "text": [
            "Requirement already satisfied: opendatasets in /usr/local/lib/python3.10/dist-packages (0.1.22)\n",
            "Requirement already satisfied: tqdm in /usr/local/lib/python3.10/dist-packages (from opendatasets) (4.66.2)\n",
            "Requirement already satisfied: kaggle in /usr/local/lib/python3.10/dist-packages (from opendatasets) (1.5.16)\n",
            "Requirement already satisfied: click in /usr/local/lib/python3.10/dist-packages (from opendatasets) (8.1.7)\n",
            "Requirement already satisfied: six>=1.10 in /usr/local/lib/python3.10/dist-packages (from kaggle->opendatasets) (1.16.0)\n",
            "Requirement already satisfied: certifi in /usr/local/lib/python3.10/dist-packages (from kaggle->opendatasets) (2024.2.2)\n",
            "Requirement already satisfied: python-dateutil in /usr/local/lib/python3.10/dist-packages (from kaggle->opendatasets) (2.8.2)\n",
            "Requirement already satisfied: requests in /usr/local/lib/python3.10/dist-packages (from kaggle->opendatasets) (2.31.0)\n",
            "Requirement already satisfied: python-slugify in /usr/local/lib/python3.10/dist-packages (from kaggle->opendatasets) (8.0.4)\n",
            "Requirement already satisfied: urllib3 in /usr/local/lib/python3.10/dist-packages (from kaggle->opendatasets) (2.0.7)\n",
            "Requirement already satisfied: bleach in /usr/local/lib/python3.10/dist-packages (from kaggle->opendatasets) (6.1.0)\n",
            "Requirement already satisfied: webencodings in /usr/local/lib/python3.10/dist-packages (from bleach->kaggle->opendatasets) (0.5.1)\n",
            "Requirement already satisfied: text-unidecode>=1.3 in /usr/local/lib/python3.10/dist-packages (from python-slugify->kaggle->opendatasets) (1.3)\n",
            "Requirement already satisfied: charset-normalizer<4,>=2 in /usr/local/lib/python3.10/dist-packages (from requests->kaggle->opendatasets) (3.3.2)\n",
            "Requirement already satisfied: idna<4,>=2.5 in /usr/local/lib/python3.10/dist-packages (from requests->kaggle->opendatasets) (3.6)\n"
          ]
        }
      ]
    },
    {
      "cell_type": "code",
      "source": [
        "import pandas as pd\n",
        "import numpy as np\n",
        "import matplotlib.pyplot\n",
        "import pandas as pd\n",
        "import seaborn as sns\n",
        "import folium\n",
        "from mlxtend.preprocessing import TransactionEncoder\n",
        "from mlxtend.frequent_patterns import apriori, association_rules"
      ],
      "metadata": {
        "id": "tsWujmzFvZw8"
      },
      "execution_count": 5,
      "outputs": []
    },
    {
      "cell_type": "code",
      "source": [
        "import opendatasets as od\n",
        "# Eric's Kaggle API key\n",
        "# \"username\":\"ericthedataguy\",\n",
        "# \"key\":\"875c0de0faea2fefa081c78eb470a347\"\n",
        "\n",
        "od.download(\n",
        "    \"https://www.kaggle.com/datasets/ericthedataguy/cleaned-hotel-review-for-ba820\")\n",
        "df = pd.read_csv(\"/content/cleaned-hotel-review-for-ba820/hotel_reviews_cleaned.csv\")"
      ],
      "metadata": {
        "colab": {
          "base_uri": "https://localhost:8080/"
        },
        "id": "dKi9tMltDiTJ",
        "outputId": "bdc4aad7-38a9-4d6e-efdc-26c18ab7de3e"
      },
      "execution_count": 6,
      "outputs": [
        {
          "output_type": "stream",
          "name": "stderr",
          "text": [
            "/usr/local/lib/python3.10/dist-packages/ipykernel/ipkernel.py:283: DeprecationWarning: `should_run_async` will not call `transform_cell` automatically in the future. Please pass the result to `transformed_cell` argument and any exception that happen during thetransform in `preprocessing_exc_tuple` in IPython 7.17 and above.\n",
            "  and should_run_async(code)\n"
          ]
        },
        {
          "output_type": "stream",
          "name": "stdout",
          "text": [
            "Skipping, found downloaded files in \"./cleaned-hotel-review-for-ba820\" (use force=True to force download)\n"
          ]
        }
      ]
    },
    {
      "cell_type": "code",
      "source": [
        "df = pd.read_csv(\"/content/cleaned-hotel-review-for-ba820/hotel_reviews_cleaned.csv\")"
      ],
      "metadata": {
        "id": "p5anvegoGUnh",
        "colab": {
          "base_uri": "https://localhost:8080/"
        },
        "outputId": "478dfa02-d9ba-4eef-eb5b-d8c67ed4e15b"
      },
      "execution_count": 7,
      "outputs": [
        {
          "output_type": "stream",
          "name": "stderr",
          "text": [
            "/usr/local/lib/python3.10/dist-packages/ipykernel/ipkernel.py:283: DeprecationWarning: `should_run_async` will not call `transform_cell` automatically in the future. Please pass the result to `transformed_cell` argument and any exception that happen during thetransform in `preprocessing_exc_tuple` in IPython 7.17 and above.\n",
            "  and should_run_async(code)\n"
          ]
        }
      ]
    },
    {
      "cell_type": "code",
      "source": [
        "subset_df = df.sample(n=10000, random_state=1729)"
      ],
      "metadata": {
        "colab": {
          "base_uri": "https://localhost:8080/"
        },
        "id": "sfv4EemeWgAm",
        "outputId": "e3db0e52-2beb-48f3-c7db-c210b51c071c"
      },
      "execution_count": 10,
      "outputs": [
        {
          "output_type": "stream",
          "name": "stderr",
          "text": [
            "/usr/local/lib/python3.10/dist-packages/ipykernel/ipkernel.py:283: DeprecationWarning: `should_run_async` will not call `transform_cell` automatically in the future. Please pass the result to `transformed_cell` argument and any exception that happen during thetransform in `preprocessing_exc_tuple` in IPython 7.17 and above.\n",
            "  and should_run_async(code)\n"
          ]
        }
      ]
    },
    {
      "cell_type": "code",
      "source": [
        "# Save the DataFrame as a CSV file in the current Colab environment\n",
        "subset_df.to_csv('subset_df.csv', index=False)"
      ],
      "metadata": {
        "colab": {
          "base_uri": "https://localhost:8080/"
        },
        "id": "UTDCJQNYXNZI",
        "outputId": "2e503a3f-0ff5-4968-a5d4-a30d93144768"
      },
      "execution_count": 17,
      "outputs": [
        {
          "output_type": "stream",
          "name": "stderr",
          "text": [
            "/usr/local/lib/python3.10/dist-packages/ipykernel/ipkernel.py:283: DeprecationWarning: `should_run_async` will not call `transform_cell` automatically in the future. Please pass the result to `transformed_cell` argument and any exception that happen during thetransform in `preprocessing_exc_tuple` in IPython 7.17 and above.\n",
            "  and should_run_async(code)\n"
          ]
        }
      ]
    },
    {
      "cell_type": "code",
      "source": [
        "from google.colab import files\n",
        "\n",
        "# Download the file to your local system\n",
        "files.download('subset_df.csv')\n"
      ],
      "metadata": {
        "colab": {
          "base_uri": "https://localhost:8080/",
          "height": 73
        },
        "id": "jMIQBUqIXth6",
        "outputId": "822063ec-4396-4af1-d53d-4df43b9c3056"
      },
      "execution_count": 18,
      "outputs": [
        {
          "output_type": "stream",
          "name": "stderr",
          "text": [
            "/usr/local/lib/python3.10/dist-packages/ipykernel/ipkernel.py:283: DeprecationWarning: `should_run_async` will not call `transform_cell` automatically in the future. Please pass the result to `transformed_cell` argument and any exception that happen during thetransform in `preprocessing_exc_tuple` in IPython 7.17 and above.\n",
            "  and should_run_async(code)\n"
          ]
        },
        {
          "output_type": "display_data",
          "data": {
            "text/plain": [
              "<IPython.core.display.Javascript object>"
            ],
            "application/javascript": [
              "\n",
              "    async function download(id, filename, size) {\n",
              "      if (!google.colab.kernel.accessAllowed) {\n",
              "        return;\n",
              "      }\n",
              "      const div = document.createElement('div');\n",
              "      const label = document.createElement('label');\n",
              "      label.textContent = `Downloading \"${filename}\": `;\n",
              "      div.appendChild(label);\n",
              "      const progress = document.createElement('progress');\n",
              "      progress.max = size;\n",
              "      div.appendChild(progress);\n",
              "      document.body.appendChild(div);\n",
              "\n",
              "      const buffers = [];\n",
              "      let downloaded = 0;\n",
              "\n",
              "      const channel = await google.colab.kernel.comms.open(id);\n",
              "      // Send a message to notify the kernel that we're ready.\n",
              "      channel.send({})\n",
              "\n",
              "      for await (const message of channel.messages) {\n",
              "        // Send a message to notify the kernel that we're ready.\n",
              "        channel.send({})\n",
              "        if (message.buffers) {\n",
              "          for (const buffer of message.buffers) {\n",
              "            buffers.push(buffer);\n",
              "            downloaded += buffer.byteLength;\n",
              "            progress.value = downloaded;\n",
              "          }\n",
              "        }\n",
              "      }\n",
              "      const blob = new Blob(buffers, {type: 'application/binary'});\n",
              "      const a = document.createElement('a');\n",
              "      a.href = window.URL.createObjectURL(blob);\n",
              "      a.download = filename;\n",
              "      div.appendChild(a);\n",
              "      a.click();\n",
              "      div.remove();\n",
              "    }\n",
              "  "
            ]
          },
          "metadata": {}
        },
        {
          "output_type": "display_data",
          "data": {
            "text/plain": [
              "<IPython.core.display.Javascript object>"
            ],
            "application/javascript": [
              "download(\"download_cfc0a627-2613-4296-a1ae-42baf371eb9e\", \"subset_df.csv\", 4608764)"
            ]
          },
          "metadata": {}
        }
      ]
    },
    {
      "cell_type": "code",
      "source": [
        "subset_df.info()"
      ],
      "metadata": {
        "colab": {
          "base_uri": "https://localhost:8080/"
        },
        "id": "Bpfyi5pxvMRy",
        "outputId": "4ebb8fc2-9c9a-4a52-e138-25e3a2865288"
      },
      "execution_count": 11,
      "outputs": [
        {
          "output_type": "stream",
          "name": "stdout",
          "text": [
            "<class 'pandas.core.frame.DataFrame'>\n",
            "Int64Index: 10000 entries, 327357 to 309014\n",
            "Data columns (total 17 columns):\n",
            " #   Column                                      Non-Null Count  Dtype  \n",
            "---  ------                                      --------------  -----  \n",
            " 0   Hotel_Address                               10000 non-null  object \n",
            " 1   Additional_Number_of_Scoring                10000 non-null  int64  \n",
            " 2   Review_Date                                 10000 non-null  object \n",
            " 3   Average_Score                               10000 non-null  float64\n",
            " 4   Hotel_Name                                  10000 non-null  object \n",
            " 5   Reviewer_Nationality                        10000 non-null  object \n",
            " 6   Negative_Review                             10000 non-null  object \n",
            " 7   Review_Total_Negative_Word_Counts           10000 non-null  int64  \n",
            " 8   Total_Number_of_Reviews                     10000 non-null  int64  \n",
            " 9   Positive_Review                             10000 non-null  object \n",
            " 10  Review_Total_Positive_Word_Counts           10000 non-null  int64  \n",
            " 11  Total_Number_of_Reviews_Reviewer_Has_Given  10000 non-null  int64  \n",
            " 12  Reviewer_Score                              10000 non-null  float64\n",
            " 13  Tags                                        10000 non-null  object \n",
            " 14  days_since_review                           10000 non-null  object \n",
            " 15  Longitude                                   10000 non-null  float64\n",
            " 16  Latitude                                    10000 non-null  float64\n",
            "dtypes: float64(4), int64(5), object(8)\n",
            "memory usage: 1.4+ MB\n"
          ]
        },
        {
          "output_type": "stream",
          "name": "stderr",
          "text": [
            "/usr/local/lib/python3.10/dist-packages/ipykernel/ipkernel.py:283: DeprecationWarning: `should_run_async` will not call `transform_cell` automatically in the future. Please pass the result to `transformed_cell` argument and any exception that happen during thetransform in `preprocessing_exc_tuple` in IPython 7.17 and above.\n",
            "  and should_run_async(code)\n"
          ]
        }
      ]
    },
    {
      "cell_type": "markdown",
      "source": [
        "# Sentiment Analysis"
      ],
      "metadata": {
        "id": "fjfpFGQyolIE"
      }
    },
    {
      "cell_type": "markdown",
      "source": [
        "## Step 1: Preprocess the Reviews\n",
        "We will clean the reviews by removing any non-relevant characters and standardizing the text. This includes:\n",
        "\n",
        "- Lowercasing all text to ensure uniformity.\n",
        "- Removing punctuation, numbers, and other non-letter characters.\n",
        "- Stripping whitespace and any placeholder texts like \"No Negative\" or \"No Positive\"."
      ],
      "metadata": {
        "id": "axCJB2r8cEYa"
      }
    },
    {
      "cell_type": "code",
      "source": [
        "from nltk.corpus import stopwords\n",
        "from nltk.tokenize import word_tokenize\n",
        "from nltk.stem import WordNetLemmatizer\n",
        "import string\n",
        "import nltk\n",
        "\n",
        "# Download necessary NLTK resources\n",
        "# 下载必要的 NLTK 资源：这是为了确保在运行时能够访问 NLTK 所需的资源文件，包括词性标注器、停用词列表等\n",
        "nltk.download('punkt')\n",
        "nltk.download('stopwords')\n",
        "nltk.download('wordnet')\n",
        "\n",
        "# Initialize lemmatizer\n",
        "# 初始化词元化器：这里使用的是 WordNetLemmatizer，它用于将单词转换为它们的基本形式（词元）\n",
        "lemmatizer = WordNetLemmatizer()\n",
        "\n",
        "# Stop words in English\n",
        "# 定义停用词集合：这是用于移除文本中无意义词语的集合，例如 \"the\"、\"is\"、\"are\" 等\n",
        "stop_words = set(stopwords.words('english'))\n",
        "\n",
        "def preprocess_text(text):\n",
        "    # Convert text to lowercase\n",
        "    text = text.lower()\n",
        "    # Remove punctuation\n",
        "    text = text.translate(str.maketrans('', '', string.punctuation))\n",
        "    # Tokenize text\n",
        "    tokens = word_tokenize(text)\n",
        "    # Remove stop words and lemmatize\n",
        "    lemmatized_tokens = [lemmatizer.lemmatize(word) for word in tokens if word not in stop_words]\n",
        "    # Join the tokens back into a string\n",
        "    return ' '.join(lemmatized_tokens)\n",
        "\n",
        "# Apply preprocessing to the positive and negative reviews\n",
        "# 应用预处理函数到正面和负面评论列：这里使用 apply 函数将 preprocess_text 函数应用到 DataFrame 中的 Positive_Review 和 Negative_Review 列\n",
        "# 并将结果存储在新的列 Processed_Positive_Review 和 Processed_Negative_Review 中\n",
        "subset_df['Processed_Positive_Review'] = subset_df['Positive_Review'].apply(preprocess_text)\n",
        "subset_df['Processed_Negative_Review'] = subset_df['Negative_Review'].apply(preprocess_text)\n",
        "\n",
        "# Display the first few rows to verify the preprocessing\n",
        "subset_df[['Positive_Review', 'Processed_Positive_Review', 'Negative_Review', 'Processed_Negative_Review']].head()\n"
      ],
      "metadata": {
        "colab": {
          "base_uri": "https://localhost:8080/",
          "height": 438
        },
        "id": "7EmBzd7bd_CB",
        "outputId": "cc903870-a800-45b9-ca28-80b418d90758"
      },
      "execution_count": 13,
      "outputs": [
        {
          "output_type": "stream",
          "name": "stderr",
          "text": [
            "/usr/local/lib/python3.10/dist-packages/ipykernel/ipkernel.py:283: DeprecationWarning: `should_run_async` will not call `transform_cell` automatically in the future. Please pass the result to `transformed_cell` argument and any exception that happen during thetransform in `preprocessing_exc_tuple` in IPython 7.17 and above.\n",
            "  and should_run_async(code)\n",
            "[nltk_data] Downloading package punkt to /root/nltk_data...\n",
            "[nltk_data]   Package punkt is already up-to-date!\n",
            "[nltk_data] Downloading package stopwords to /root/nltk_data...\n",
            "[nltk_data]   Package stopwords is already up-to-date!\n",
            "[nltk_data] Downloading package wordnet to /root/nltk_data...\n",
            "[nltk_data]   Package wordnet is already up-to-date!\n"
          ]
        },
        {
          "output_type": "execute_result",
          "data": {
            "text/plain": [
              "                                          Positive_Review  \\\n",
              "327357   The staff were SO accommodating to us a young...   \n",
              "271972   Breakfast is excellent and the view is stunning    \n",
              "22048    Professional and very friendly and helpful st...   \n",
              "433239   Super position beds very comfy employees very...   \n",
              "171350   perfectly central for doing London rooms were...   \n",
              "\n",
              "                                Processed_Positive_Review  \\\n",
              "327357  staff accommodating u young group reassuring s...   \n",
              "271972                  breakfast excellent view stunning   \n",
              "22048   professional friendly helpful staff acomodatin...   \n",
              "433239  super position bed comfy employee smily helpfu...   \n",
              "171350  perfectly central london room really comfortab...   \n",
              "\n",
              "                                          Negative_Review  \\\n",
              "327357                                        No Negative   \n",
              "271972   A part of the hotel is under construction so ...   \n",
              "22048    A less noisy aircondition Free coffee in lobb...   \n",
              "433239   First night only decaffeinated coffee in room...   \n",
              "171350                                        No Negative   \n",
              "\n",
              "                                Processed_Negative_Review  \n",
              "327357                                           negative  \n",
              "271972                part hotel construction bit noisy 7  \n",
              "22048   le noisy aircondition free coffee lobby macine...  \n",
              "433239  first night decaffeinated coffee room second n...  \n",
              "171350                                           negative  "
            ],
            "text/html": [
              "\n",
              "  <div id=\"df-8a6b1390-3051-4771-8af5-cdf43c806547\" class=\"colab-df-container\">\n",
              "    <div>\n",
              "<style scoped>\n",
              "    .dataframe tbody tr th:only-of-type {\n",
              "        vertical-align: middle;\n",
              "    }\n",
              "\n",
              "    .dataframe tbody tr th {\n",
              "        vertical-align: top;\n",
              "    }\n",
              "\n",
              "    .dataframe thead th {\n",
              "        text-align: right;\n",
              "    }\n",
              "</style>\n",
              "<table border=\"1\" class=\"dataframe\">\n",
              "  <thead>\n",
              "    <tr style=\"text-align: right;\">\n",
              "      <th></th>\n",
              "      <th>Positive_Review</th>\n",
              "      <th>Processed_Positive_Review</th>\n",
              "      <th>Negative_Review</th>\n",
              "      <th>Processed_Negative_Review</th>\n",
              "    </tr>\n",
              "  </thead>\n",
              "  <tbody>\n",
              "    <tr>\n",
              "      <th>327357</th>\n",
              "      <td>The staff were SO accommodating to us a young...</td>\n",
              "      <td>staff accommodating u young group reassuring s...</td>\n",
              "      <td>No Negative</td>\n",
              "      <td>negative</td>\n",
              "    </tr>\n",
              "    <tr>\n",
              "      <th>271972</th>\n",
              "      <td>Breakfast is excellent and the view is stunning</td>\n",
              "      <td>breakfast excellent view stunning</td>\n",
              "      <td>A part of the hotel is under construction so ...</td>\n",
              "      <td>part hotel construction bit noisy 7</td>\n",
              "    </tr>\n",
              "    <tr>\n",
              "      <th>22048</th>\n",
              "      <td>Professional and very friendly and helpful st...</td>\n",
              "      <td>professional friendly helpful staff acomodatin...</td>\n",
              "      <td>A less noisy aircondition Free coffee in lobb...</td>\n",
              "      <td>le noisy aircondition free coffee lobby macine...</td>\n",
              "    </tr>\n",
              "    <tr>\n",
              "      <th>433239</th>\n",
              "      <td>Super position beds very comfy employees very...</td>\n",
              "      <td>super position bed comfy employee smily helpfu...</td>\n",
              "      <td>First night only decaffeinated coffee in room...</td>\n",
              "      <td>first night decaffeinated coffee room second n...</td>\n",
              "    </tr>\n",
              "    <tr>\n",
              "      <th>171350</th>\n",
              "      <td>perfectly central for doing London rooms were...</td>\n",
              "      <td>perfectly central london room really comfortab...</td>\n",
              "      <td>No Negative</td>\n",
              "      <td>negative</td>\n",
              "    </tr>\n",
              "  </tbody>\n",
              "</table>\n",
              "</div>\n",
              "    <div class=\"colab-df-buttons\">\n",
              "\n",
              "  <div class=\"colab-df-container\">\n",
              "    <button class=\"colab-df-convert\" onclick=\"convertToInteractive('df-8a6b1390-3051-4771-8af5-cdf43c806547')\"\n",
              "            title=\"Convert this dataframe to an interactive table.\"\n",
              "            style=\"display:none;\">\n",
              "\n",
              "  <svg xmlns=\"http://www.w3.org/2000/svg\" height=\"24px\" viewBox=\"0 -960 960 960\">\n",
              "    <path d=\"M120-120v-720h720v720H120Zm60-500h600v-160H180v160Zm220 220h160v-160H400v160Zm0 220h160v-160H400v160ZM180-400h160v-160H180v160Zm440 0h160v-160H620v160ZM180-180h160v-160H180v160Zm440 0h160v-160H620v160Z\"/>\n",
              "  </svg>\n",
              "    </button>\n",
              "\n",
              "  <style>\n",
              "    .colab-df-container {\n",
              "      display:flex;\n",
              "      gap: 12px;\n",
              "    }\n",
              "\n",
              "    .colab-df-convert {\n",
              "      background-color: #E8F0FE;\n",
              "      border: none;\n",
              "      border-radius: 50%;\n",
              "      cursor: pointer;\n",
              "      display: none;\n",
              "      fill: #1967D2;\n",
              "      height: 32px;\n",
              "      padding: 0 0 0 0;\n",
              "      width: 32px;\n",
              "    }\n",
              "\n",
              "    .colab-df-convert:hover {\n",
              "      background-color: #E2EBFA;\n",
              "      box-shadow: 0px 1px 2px rgba(60, 64, 67, 0.3), 0px 1px 3px 1px rgba(60, 64, 67, 0.15);\n",
              "      fill: #174EA6;\n",
              "    }\n",
              "\n",
              "    .colab-df-buttons div {\n",
              "      margin-bottom: 4px;\n",
              "    }\n",
              "\n",
              "    [theme=dark] .colab-df-convert {\n",
              "      background-color: #3B4455;\n",
              "      fill: #D2E3FC;\n",
              "    }\n",
              "\n",
              "    [theme=dark] .colab-df-convert:hover {\n",
              "      background-color: #434B5C;\n",
              "      box-shadow: 0px 1px 3px 1px rgba(0, 0, 0, 0.15);\n",
              "      filter: drop-shadow(0px 1px 2px rgba(0, 0, 0, 0.3));\n",
              "      fill: #FFFFFF;\n",
              "    }\n",
              "  </style>\n",
              "\n",
              "    <script>\n",
              "      const buttonEl =\n",
              "        document.querySelector('#df-8a6b1390-3051-4771-8af5-cdf43c806547 button.colab-df-convert');\n",
              "      buttonEl.style.display =\n",
              "        google.colab.kernel.accessAllowed ? 'block' : 'none';\n",
              "\n",
              "      async function convertToInteractive(key) {\n",
              "        const element = document.querySelector('#df-8a6b1390-3051-4771-8af5-cdf43c806547');\n",
              "        const dataTable =\n",
              "          await google.colab.kernel.invokeFunction('convertToInteractive',\n",
              "                                                    [key], {});\n",
              "        if (!dataTable) return;\n",
              "\n",
              "        const docLinkHtml = 'Like what you see? Visit the ' +\n",
              "          '<a target=\"_blank\" href=https://colab.research.google.com/notebooks/data_table.ipynb>data table notebook</a>'\n",
              "          + ' to learn more about interactive tables.';\n",
              "        element.innerHTML = '';\n",
              "        dataTable['output_type'] = 'display_data';\n",
              "        await google.colab.output.renderOutput(dataTable, element);\n",
              "        const docLink = document.createElement('div');\n",
              "        docLink.innerHTML = docLinkHtml;\n",
              "        element.appendChild(docLink);\n",
              "      }\n",
              "    </script>\n",
              "  </div>\n",
              "\n",
              "\n",
              "<div id=\"df-a7c5c8d5-f3ba-48cc-9ed8-f63c65cac71f\">\n",
              "  <button class=\"colab-df-quickchart\" onclick=\"quickchart('df-a7c5c8d5-f3ba-48cc-9ed8-f63c65cac71f')\"\n",
              "            title=\"Suggest charts\"\n",
              "            style=\"display:none;\">\n",
              "\n",
              "<svg xmlns=\"http://www.w3.org/2000/svg\" height=\"24px\"viewBox=\"0 0 24 24\"\n",
              "     width=\"24px\">\n",
              "    <g>\n",
              "        <path d=\"M19 3H5c-1.1 0-2 .9-2 2v14c0 1.1.9 2 2 2h14c1.1 0 2-.9 2-2V5c0-1.1-.9-2-2-2zM9 17H7v-7h2v7zm4 0h-2V7h2v10zm4 0h-2v-4h2v4z\"/>\n",
              "    </g>\n",
              "</svg>\n",
              "  </button>\n",
              "\n",
              "<style>\n",
              "  .colab-df-quickchart {\n",
              "      --bg-color: #E8F0FE;\n",
              "      --fill-color: #1967D2;\n",
              "      --hover-bg-color: #E2EBFA;\n",
              "      --hover-fill-color: #174EA6;\n",
              "      --disabled-fill-color: #AAA;\n",
              "      --disabled-bg-color: #DDD;\n",
              "  }\n",
              "\n",
              "  [theme=dark] .colab-df-quickchart {\n",
              "      --bg-color: #3B4455;\n",
              "      --fill-color: #D2E3FC;\n",
              "      --hover-bg-color: #434B5C;\n",
              "      --hover-fill-color: #FFFFFF;\n",
              "      --disabled-bg-color: #3B4455;\n",
              "      --disabled-fill-color: #666;\n",
              "  }\n",
              "\n",
              "  .colab-df-quickchart {\n",
              "    background-color: var(--bg-color);\n",
              "    border: none;\n",
              "    border-radius: 50%;\n",
              "    cursor: pointer;\n",
              "    display: none;\n",
              "    fill: var(--fill-color);\n",
              "    height: 32px;\n",
              "    padding: 0;\n",
              "    width: 32px;\n",
              "  }\n",
              "\n",
              "  .colab-df-quickchart:hover {\n",
              "    background-color: var(--hover-bg-color);\n",
              "    box-shadow: 0 1px 2px rgba(60, 64, 67, 0.3), 0 1px 3px 1px rgba(60, 64, 67, 0.15);\n",
              "    fill: var(--button-hover-fill-color);\n",
              "  }\n",
              "\n",
              "  .colab-df-quickchart-complete:disabled,\n",
              "  .colab-df-quickchart-complete:disabled:hover {\n",
              "    background-color: var(--disabled-bg-color);\n",
              "    fill: var(--disabled-fill-color);\n",
              "    box-shadow: none;\n",
              "  }\n",
              "\n",
              "  .colab-df-spinner {\n",
              "    border: 2px solid var(--fill-color);\n",
              "    border-color: transparent;\n",
              "    border-bottom-color: var(--fill-color);\n",
              "    animation:\n",
              "      spin 1s steps(1) infinite;\n",
              "  }\n",
              "\n",
              "  @keyframes spin {\n",
              "    0% {\n",
              "      border-color: transparent;\n",
              "      border-bottom-color: var(--fill-color);\n",
              "      border-left-color: var(--fill-color);\n",
              "    }\n",
              "    20% {\n",
              "      border-color: transparent;\n",
              "      border-left-color: var(--fill-color);\n",
              "      border-top-color: var(--fill-color);\n",
              "    }\n",
              "    30% {\n",
              "      border-color: transparent;\n",
              "      border-left-color: var(--fill-color);\n",
              "      border-top-color: var(--fill-color);\n",
              "      border-right-color: var(--fill-color);\n",
              "    }\n",
              "    40% {\n",
              "      border-color: transparent;\n",
              "      border-right-color: var(--fill-color);\n",
              "      border-top-color: var(--fill-color);\n",
              "    }\n",
              "    60% {\n",
              "      border-color: transparent;\n",
              "      border-right-color: var(--fill-color);\n",
              "    }\n",
              "    80% {\n",
              "      border-color: transparent;\n",
              "      border-right-color: var(--fill-color);\n",
              "      border-bottom-color: var(--fill-color);\n",
              "    }\n",
              "    90% {\n",
              "      border-color: transparent;\n",
              "      border-bottom-color: var(--fill-color);\n",
              "    }\n",
              "  }\n",
              "</style>\n",
              "\n",
              "  <script>\n",
              "    async function quickchart(key) {\n",
              "      const quickchartButtonEl =\n",
              "        document.querySelector('#' + key + ' button');\n",
              "      quickchartButtonEl.disabled = true;  // To prevent multiple clicks.\n",
              "      quickchartButtonEl.classList.add('colab-df-spinner');\n",
              "      try {\n",
              "        const charts = await google.colab.kernel.invokeFunction(\n",
              "            'suggestCharts', [key], {});\n",
              "      } catch (error) {\n",
              "        console.error('Error during call to suggestCharts:', error);\n",
              "      }\n",
              "      quickchartButtonEl.classList.remove('colab-df-spinner');\n",
              "      quickchartButtonEl.classList.add('colab-df-quickchart-complete');\n",
              "    }\n",
              "    (() => {\n",
              "      let quickchartButtonEl =\n",
              "        document.querySelector('#df-a7c5c8d5-f3ba-48cc-9ed8-f63c65cac71f button');\n",
              "      quickchartButtonEl.style.display =\n",
              "        google.colab.kernel.accessAllowed ? 'block' : 'none';\n",
              "    })();\n",
              "  </script>\n",
              "</div>\n",
              "    </div>\n",
              "  </div>\n"
            ],
            "application/vnd.google.colaboratory.intrinsic+json": {
              "type": "dataframe",
              "summary": "{\n  \"name\": \"subset_df[['Positive_Review', 'Processed_Positive_Review', 'Negative_Review', 'Processed_Negative_Review']]\",\n  \"rows\": 5,\n  \"fields\": [\n    {\n      \"column\": \"Positive_Review\",\n      \"properties\": {\n        \"dtype\": \"string\",\n        \"num_unique_values\": 5,\n        \"samples\": [\n          \" Breakfast is excellent and the view is stunning \",\n          \" perfectly central for doing London rooms were really comfortable and clean and facilities very good would thoroughly recommend this hotel just perfect \",\n          \" Professional and very friendly and helpful staff Acomodating to any issues Great location Comfy rooms with good beds and great linnes \"\n        ],\n        \"semantic_type\": \"\",\n        \"description\": \"\"\n      }\n    },\n    {\n      \"column\": \"Processed_Positive_Review\",\n      \"properties\": {\n        \"dtype\": \"string\",\n        \"num_unique_values\": 5,\n        \"samples\": [\n          \"breakfast excellent view stunning\",\n          \"perfectly central london room really comfortable clean facility good would thoroughly recommend hotel perfect\",\n          \"professional friendly helpful staff acomodating issue great location comfy room good bed great linnes\"\n        ],\n        \"semantic_type\": \"\",\n        \"description\": \"\"\n      }\n    },\n    {\n      \"column\": \"Negative_Review\",\n      \"properties\": {\n        \"dtype\": \"string\",\n        \"num_unique_values\": 4,\n        \"samples\": [\n          \" A part of the hotel is under construction so it was a bit noisy from 7 am \",\n          \" First night only decaffeinated coffee in room second night no coffee at all \",\n          \"No Negative\"\n        ],\n        \"semantic_type\": \"\",\n        \"description\": \"\"\n      }\n    },\n    {\n      \"column\": \"Processed_Negative_Review\",\n      \"properties\": {\n        \"dtype\": \"string\",\n        \"num_unique_values\": 4,\n        \"samples\": [\n          \"part hotel construction bit noisy 7\",\n          \"first night decaffeinated coffee room second night coffee\",\n          \"negative\"\n        ],\n        \"semantic_type\": \"\",\n        \"description\": \"\"\n      }\n    }\n  ]\n}"
            }
          },
          "metadata": {},
          "execution_count": 13
        }
      ]
    },
    {
      "cell_type": "markdown",
      "source": [
        "## Step 2: Text Representation\n",
        "We will represent the text numerically so that a machine learning model can process it. We'll use a model like Word2Vec to convert the text into vectors (embeddings). These embeddings capture semantic meaning and context."
      ],
      "metadata": {
        "id": "bT9SSmPZcZ79"
      }
    },
    {
      "cell_type": "code",
      "source": [
        "import gensim.downloader as api\n",
        "from nltk.tokenize import word_tokenize\n",
        "import numpy as np\n",
        "\n",
        "# Load Word2Vec model\n",
        "word2vec_model = api.load(\"word2vec-google-news-300\")"
      ],
      "metadata": {
        "colab": {
          "base_uri": "https://localhost:8080/"
        },
        "id": "OR6iALvLgke4",
        "outputId": "fd4542e9-28c3-43f9-db0d-aa594f24d07e"
      },
      "execution_count": 16,
      "outputs": [
        {
          "output_type": "stream",
          "name": "stderr",
          "text": [
            "/usr/local/lib/python3.10/dist-packages/ipykernel/ipkernel.py:283: DeprecationWarning: `should_run_async` will not call `transform_cell` automatically in the future. Please pass the result to `transformed_cell` argument and any exception that happen during thetransform in `preprocessing_exc_tuple` in IPython 7.17 and above.\n",
            "  and should_run_async(code)\n"
          ]
        }
      ]
    },
    {
      "cell_type": "code",
      "source": [
        "def text_to_word2vec(text):\n",
        "    # Tokenize text\n",
        "    # 函数会将输入文本进行分词\n",
        "    tokens = word_tokenize(text)\n",
        "    # Filter tokens that are in the model's vocabulary\n",
        "    # 函数会过滤掉不在 Word2Vec 模型词汇表中的词语，只保留在模型词汇表中的词语\n",
        "    tokens = [token for token in tokens if token in word2vec_model.key_to_index]\n",
        "    if tokens:\n",
        "        # 保留下来的词语，函数会获取它们对应的 Word2Vec 向量\n",
        "        # 最后，函数会计算这些词语向量的均值，得到文本的表示向量，并返回该向量\n",
        "        # Calculate the mean of Word2Vec vectors for the tokens\n",
        "        word_vectors = [word2vec_model.get_vector(token) for token in tokens]\n",
        "        text_vector = np.mean(word_vectors, axis=0)\n",
        "        return text_vector\n",
        "    else:\n",
        "        # If no tokens found in the vocabulary, return None\n",
        "        return None\n",
        "\n",
        "# 将 text_to_word2vec 函数应用到了处理后的正面和负面评论列\n",
        "# 将 text_to_word2vec 函数应用到每一条评论文本上，并将返回的 Word2Vec 向量存储到新的列中\n",
        "# Apply text_to_word2vec function to the processed positive and negative reviews\n",
        "subset_df['Positive_Review_Word2Vec'] = subset_df['Processed_Positive_Review'].apply(text_to_word2vec)\n",
        "subset_df['Negative_Review_Word2Vec'] = subset_df['Processed_Negative_Review'].apply(text_to_word2vec)\n",
        "\n",
        "# Display the first few rows to verify the text representation\n",
        "print(subset_df[['Positive_Review', 'Positive_Review_Word2Vec', 'Negative_Review', 'Negative_Review_Word2Vec']].head())\n"
      ],
      "metadata": {
        "colab": {
          "base_uri": "https://localhost:8080/"
        },
        "id": "E9QVVvPRkq2c",
        "outputId": "7d3cc970-a086-46dc-8abc-f5bf6612aab3"
      },
      "execution_count": 17,
      "outputs": [
        {
          "output_type": "stream",
          "name": "stderr",
          "text": [
            "/usr/local/lib/python3.10/dist-packages/ipykernel/ipkernel.py:283: DeprecationWarning: `should_run_async` will not call `transform_cell` automatically in the future. Please pass the result to `transformed_cell` argument and any exception that happen during thetransform in `preprocessing_exc_tuple` in IPython 7.17 and above.\n",
            "  and should_run_async(code)\n"
          ]
        },
        {
          "output_type": "stream",
          "name": "stdout",
          "text": [
            "                                          Positive_Review  \\\n",
            "327357   The staff were SO accommodating to us a young...   \n",
            "271972   Breakfast is excellent and the view is stunning    \n",
            "22048    Professional and very friendly and helpful st...   \n",
            "433239   Super position beds very comfy employees very...   \n",
            "171350   perfectly central for doing London rooms were...   \n",
            "\n",
            "                                 Positive_Review_Word2Vec  \\\n",
            "327357  [-0.025326896, 0.053632848, 0.032610726, 0.019...   \n",
            "271972  [-0.072021484, -0.015602112, -0.12219238, 0.08...   \n",
            "22048   [-0.0032780964, 0.05812645, -0.03002421, 0.138...   \n",
            "433239  [0.005272692, -0.017522639, -0.036615547, 0.14...   \n",
            "171350  [-0.06958008, 0.035731725, -0.0029209682, 0.07...   \n",
            "\n",
            "                                          Negative_Review  \\\n",
            "327357                                        No Negative   \n",
            "271972   A part of the hotel is under construction so ...   \n",
            "22048    A less noisy aircondition Free coffee in lobb...   \n",
            "433239   First night only decaffeinated coffee in room...   \n",
            "171350                                        No Negative   \n",
            "\n",
            "                                 Negative_Review_Word2Vec  \n",
            "327357  [0.031982422, -0.0703125, 0.109375, -0.1416015...  \n",
            "271972  [0.049367268, 0.075927734, -0.01180013, 0.0553...  \n",
            "22048   [-0.0029144287, 0.07832031, -0.014709473, 0.12...  \n",
            "433239  [-0.042282104, -0.023742676, -0.102645874, 0.2...  \n",
            "171350  [0.031982422, -0.0703125, 0.109375, -0.1416015...  \n"
          ]
        }
      ]
    },
    {
      "cell_type": "markdown",
      "source": [
        "## Step 3: Obtain Sentiment Embeddings\n",
        "We need vectors (embeddings) that represent positive and negative sentiment. We will create these by averaging the embeddings of words that are commonly associated with positive and negative sentiments. This will give us a centroid for positive and negative sentiment."
      ],
      "metadata": {
        "id": "wCwUgzIPcjxY"
      }
    },
    {
      "cell_type": "code",
      "source": [
        "import numpy as np\n",
        "\n",
        "# Define positive and negative words\n",
        "positive_words = [\"good\", \"nice\", \"excellent\", \"positive\", \"great\", \"joyful\", \"wonderful\", \"amazing\"]\n",
        "negative_words = [\"bad\", \"terrible\", \"negative\", \"awful\", \"horrible\", \"disappointing\"]\n",
        "\n",
        "def get_sentiment_embedding(words, model):\n",
        "    # Filter words that are in the model's vocabulary\n",
        "    words = [word for word in words if word in model.key_to_index]\n",
        "    if words:\n",
        "        # Calculate the mean of Word2Vec vectors for the words\n",
        "        word_vectors = [model.get_vector(word) for word in words]\n",
        "        sentiment_embedding = np.mean(word_vectors, axis=0)\n",
        "        return sentiment_embedding\n",
        "    else:\n",
        "        # If no words found in the vocabulary, return None\n",
        "        return None\n",
        "\n",
        "# Obtain sentiment embeddings for positive and negative words using Word2Vec model\n",
        "positive_sentiment_embedding = get_sentiment_embedding(positive_words, word2vec_model)\n",
        "negative_sentiment_embedding = get_sentiment_embedding(negative_words, word2vec_model)\n",
        "\n",
        "# Display sentiment embeddings\n",
        "print(\"Positive Sentiment Embedding:\", positive_sentiment_embedding)\n",
        "print(\"Negative Sentiment Embedding:\", negative_sentiment_embedding)\n"
      ],
      "metadata": {
        "colab": {
          "base_uri": "https://localhost:8080/"
        },
        "id": "CCo4iocjj2Nt",
        "outputId": "73ff82ab-f01a-4e7c-d4da-2360814b463e"
      },
      "execution_count": 19,
      "outputs": [
        {
          "output_type": "stream",
          "name": "stdout",
          "text": [
            "Positive Sentiment Embedding: [ 4.01916504e-02  3.83605957e-02 -5.11474609e-02  8.50067139e-02\n",
            "  6.52008057e-02 -1.01646423e-01  8.02001953e-02 -2.07366943e-02\n",
            " -3.07922363e-02  1.96350098e-01 -1.26892090e-01 -1.27754211e-01\n",
            "  5.77087402e-02  5.27954102e-03  3.27453613e-02  1.77612305e-01\n",
            "  1.76086426e-01  1.61102295e-01 -9.43908691e-02 -3.14102173e-02\n",
            "  2.83181071e-02  2.39257812e-01  7.07092285e-02  1.54876709e-02\n",
            "  1.39064789e-01  7.01713562e-03 -4.09393311e-02  6.93054199e-02\n",
            "  8.01239014e-02 -7.07015991e-02 -1.00646973e-01 -3.98635864e-02\n",
            "  2.04360962e-01  1.05074883e-01  1.05834961e-01 -2.26669312e-02\n",
            " -3.95050049e-02 -3.91464233e-02 -1.40209198e-02  9.25903320e-02\n",
            "  2.33795166e-01 -5.40308952e-02  1.51905060e-01  3.55834961e-02\n",
            " -1.57165527e-03 -4.89120483e-02  9.27124023e-02  5.85937500e-03\n",
            " -3.75175476e-03 -7.73773193e-02  6.12258911e-02  1.26190186e-01\n",
            " -5.77697754e-02  1.44927979e-01 -1.52587891e-05  3.87706757e-02\n",
            " -6.93664551e-02 -1.35925293e-01  1.70654297e-01 -1.27012253e-01\n",
            " -1.36001587e-01  1.39160156e-01 -2.38281250e-01 -1.15325928e-01\n",
            "  1.15844727e-01  1.09985352e-01 -4.14581299e-02 -9.03930664e-02\n",
            " -1.64428711e-01  1.33056641e-01  3.58581543e-02 -2.46887207e-02\n",
            "  6.31103516e-02  5.05619049e-02 -1.26144409e-01 -1.13792419e-02\n",
            " -8.81958008e-03  1.40289307e-01  9.78393555e-02  1.23718262e-01\n",
            " -6.07528687e-02 -2.11715698e-03 -1.67846680e-03  9.48486328e-02\n",
            " -6.28967285e-02 -1.79351807e-01 -1.82571411e-01  1.07208252e-01\n",
            " -8.42971802e-02  1.49230957e-02  1.23748779e-02  3.34014893e-02\n",
            " -1.02531433e-01 -3.24745178e-02 -1.43676758e-01  9.93347168e-03\n",
            "  4.83398438e-02  2.49023438e-01 -6.77566528e-02 -1.84204102e-01\n",
            " -1.40335083e-01  9.64965820e-02 -2.00805664e-02 -5.23681641e-02\n",
            " -4.06188965e-02  1.23596191e-01  1.00784302e-01 -9.61151123e-02\n",
            "  1.54876709e-03 -1.74987793e-01 -8.93249512e-02  1.67266846e-01\n",
            " -9.10110474e-02 -5.17654419e-02  2.45178223e-01 -1.42974854e-01\n",
            "  2.50434875e-02 -9.55505371e-02  7.10754395e-02 -8.24279785e-02\n",
            " -4.49447632e-02 -8.63952637e-02  9.78240967e-02  8.34350586e-02\n",
            " -1.06994629e-01 -1.94168091e-02 -2.74715424e-02 -8.80050659e-02\n",
            " -9.17053223e-02  1.89331055e-01 -2.05200195e-01 -4.45556641e-02\n",
            " -1.03515625e-01  1.48986816e-01  8.54425430e-02 -6.17675781e-02\n",
            "  5.84869385e-02  1.29090786e-01  6.65283203e-03  2.76245117e-01\n",
            " -1.07849121e-01  1.11408234e-01  1.98364258e-03 -6.19125366e-03\n",
            " -1.39755249e-01 -6.10351562e-05 -6.69403076e-02 -2.45056152e-02\n",
            "  5.25970459e-02 -2.14324951e-01  2.03674316e-01  1.69504166e-01\n",
            " -1.23870850e-01  3.27514648e-01 -9.35516357e-02  3.46298218e-02\n",
            "  5.80749512e-02 -9.24682617e-02 -1.61254883e-01 -5.12924194e-02\n",
            " -1.04831696e-01  1.54113770e-01  1.28211975e-01  1.82861328e-01\n",
            "  3.38623047e-01 -2.18467712e-01 -8.43811035e-03 -9.16748047e-02\n",
            "  8.69750977e-04 -1.22985840e-02 -8.62874985e-02  5.67092896e-02\n",
            "  8.56323242e-02 -2.44369507e-02  5.45024872e-02  1.91345215e-01\n",
            "  8.82606506e-02 -4.99725342e-02 -5.37300110e-02 -3.07464600e-02\n",
            " -1.71936035e-01 -1.63299561e-01  9.20104980e-02 -8.80126953e-02\n",
            " -1.64062500e-01  1.24244690e-02 -2.05505371e-01 -3.54003906e-02\n",
            " -5.69038391e-02 -6.28519058e-02 -2.01721191e-01  1.58065796e-01\n",
            "  1.09832764e-01 -1.53991699e-01  1.88293457e-02 -9.61570740e-02\n",
            " -3.05480957e-02 -7.55615234e-02 -1.61010742e-01 -8.41553211e-02\n",
            "  6.78558350e-02  1.16943359e-01 -6.42395020e-02 -1.17118835e-01\n",
            "  2.59094238e-02  2.67887115e-03 -1.25244141e-01  3.85084152e-02\n",
            " -4.39987183e-02  1.18396759e-01 -1.24847412e-01  1.01875305e-01\n",
            " -2.12867737e-01  9.12780762e-02  4.48379517e-02 -5.05638123e-02\n",
            "  2.44918823e-01  8.07342529e-02  3.26652527e-02 -1.19247437e-02\n",
            " -2.26287842e-02  1.37969971e-01 -1.03527069e-01 -5.02395630e-02\n",
            "  4.22439575e-02  3.60031128e-02 -1.35040283e-03 -1.28326416e-01\n",
            " -1.21612549e-02  4.21466827e-02 -1.23229980e-01  1.59606934e-02\n",
            "  9.37500000e-02  2.90985107e-02  1.04324341e-01 -8.71343613e-02\n",
            " -1.37954712e-01 -8.49494934e-02  5.71136475e-02  4.47692871e-02\n",
            "  1.23657227e-01  3.14331055e-02  3.41339111e-02 -4.54473495e-02\n",
            " -3.50952148e-02  7.46002197e-02  1.54867172e-02 -6.90307617e-02\n",
            " -1.80236816e-01 -2.69897461e-01 -1.00479126e-02  2.29461670e-01\n",
            "  1.30264282e-01  2.33825684e-01  9.74121094e-02 -2.22778320e-01\n",
            "  3.64646912e-02  1.46675110e-03 -1.09741211e-01 -9.25575495e-02\n",
            " -9.38796997e-02 -4.78210449e-02 -9.02481079e-02  5.37261963e-02\n",
            "  8.04748535e-02  4.36401367e-02  9.68627930e-02 -1.35314941e-01\n",
            " -6.66732788e-02  4.20379639e-02 -3.33805084e-02  1.11328125e-01\n",
            "  6.64443970e-02  3.99322510e-02  1.42517090e-01 -1.30981445e-01\n",
            "  5.79833984e-02 -5.68542480e-02 -4.56390381e-02  4.51965332e-02\n",
            "  3.31077576e-02  1.51939392e-02 -1.30492210e-01  8.35113525e-02\n",
            " -1.98516846e-02  3.29856873e-02 -1.06811523e-01 -1.13800049e-01\n",
            " -5.80463409e-02  4.21066284e-02 -3.25088501e-02  8.04491043e-02\n",
            " -1.59851074e-01 -4.73670959e-02 -1.28845215e-01  6.95419312e-03\n",
            "  7.32841492e-02 -1.56005859e-01 -2.82573700e-03 -9.64279175e-02]\n",
            "Negative Sentiment Embedding: [ 0.1052653   0.10359701  0.10353597  0.02351888 -0.01890055  0.08919271\n",
            " -0.00577799  0.05205345  0.1893514   0.2524414  -0.03725306 -0.10164388\n",
            "  0.02003988 -0.02105204  0.00518799  0.19156902  0.15641277  0.02732849\n",
            " -0.03450521 -0.1607259   0.01467896  0.25569662  0.02718099 -0.08927409\n",
            "  0.20056152  0.08704122  0.10766602 -0.00110881  0.09088898 -0.02722168\n",
            " -0.15657552 -0.01517741  0.17354839 -0.06839243  0.04836528  0.1257426\n",
            "  0.04150136  0.04058838 -0.04431152  0.05298869  0.25333658 -0.10171509\n",
            "  0.34228516 -0.20589192 -0.01363118 -0.0006307   0.13831584 -0.02598063\n",
            " -0.02282715 -0.10009766  0.00614166  0.14493816 -0.03972371  0.08095296\n",
            " -0.06034343 -0.05836995 -0.08395386 -0.14713542  0.1607259  -0.096934\n",
            " -0.01190694  0.28214517 -0.1365153  -0.13293457  0.06178729 -0.07576498\n",
            "  0.11171976  0.06970215 -0.20800781  0.01834615  0.07450358 -0.14196777\n",
            " -0.04939016  0.05557759 -0.21199544  0.08961996  0.00541178  0.19262695\n",
            "  0.07767741  0.10270182 -0.06070964 -0.05661265 -0.17679851  0.10130819\n",
            " -0.00215658 -0.16251628 -0.24667771  0.24397786 -0.1451823   0.02920024\n",
            "  0.08007812  0.09089152 -0.07145691 -0.05841064 -0.10609945 -0.01340739\n",
            "  0.11317953  0.1800944   0.18725586  0.03384399 -0.00125122  0.05722046\n",
            "  0.01977539 -0.16555786  0.08095042 -0.05791728  0.00467936 -0.11714681\n",
            " -0.00406901 -0.2607422  -0.06852213  0.0289917   0.01126099 -0.11625163\n",
            "  0.26416016 -0.24430339  0.10530599  0.02435303  0.11214193  0.10060629\n",
            " -0.3306071   0.02686564 -0.04558309 -0.02849325 -0.24609375 -0.1997884\n",
            " -0.03710938 -0.02945455  0.05493164  0.04956055 -0.2055664  -0.06225586\n",
            " -0.1128184   0.17049153 -0.00290628 -0.14689128  0.04819616  0.06176758\n",
            " -0.10587565 -0.09737142  0.01503499  0.13879395  0.05198161  0.08761088\n",
            " -0.08175611 -0.23502605 -0.17277019  0.0234375  -0.0851237  -0.14550781\n",
            "  0.25164795  0.06768799 -0.11584345  0.33561197 -0.11415609  0.02449799\n",
            " -0.09408569 -0.14723714 -0.04343669 -0.05249023 -0.12941487  0.1752116\n",
            "  0.23510742 -0.00541687  0.15014648 -0.12231445 -0.01714071 -0.1373698\n",
            "  0.1710612  -0.0843099  -0.04353841 -0.01158651 -0.01952108  0.03178914\n",
            " -0.07441203  0.09887695  0.25748697 -0.08492025  0.13344319 -0.06265417\n",
            "  0.00992839 -0.15474446  0.07439677  0.09268697 -0.0965983   0.09894816\n",
            " -0.24837239  0.10804749  0.00785319  0.07281494 -0.03710938  0.09324137\n",
            "  0.01611328 -0.00364176 -0.02522787  0.07055664  0.07177734 -0.12060547\n",
            " -0.1120046   0.01509603  0.0747172   0.15907796 -0.03344472 -0.11116537\n",
            "  0.0814209   0.0299174  -0.21228282  0.02705892 -0.12849934 -0.03631592\n",
            " -0.05830892 -0.00380452 -0.01734924  0.03470866 -0.08371989 -0.05774434\n",
            "  0.11695353 -0.08797201  0.03525798 -0.09452311 -0.12375895  0.17085774\n",
            " -0.06092326 -0.00809733  0.05476888 -0.15262859  0.03259277 -0.08262507\n",
            " -0.0464681   0.08777872  0.0076224   0.08001709  0.16992188  0.01025391\n",
            "  0.08256022  0.01051331 -0.11507162 -0.02661133  0.087677    0.0396932\n",
            "  0.2565104   0.04111735  0.1077474  -0.17854817 -0.09986369  0.01222738\n",
            "  0.11735026  0.01772054 -0.22884114 -0.11580404  0.02968343  0.12931316\n",
            "  0.12296549  0.05414836 -0.00443522 -0.32409668  0.16552734  0.11503092\n",
            "  0.15445964 -0.23388672 -0.11523438  0.11271159  0.18144734  0.09619141\n",
            "  0.01395162  0.08036295 -0.0273234  -0.08953094 -0.00240072  0.02756246\n",
            "  0.03640239  0.23583984  0.10339355 -0.04990641 -0.03550212 -0.06559245\n",
            "  0.11450195  0.07588705  0.01021322  0.08442179  0.02754211 -0.11507162\n",
            " -0.0512085   0.02833048 -0.07773844 -0.02913539 -0.04964193 -0.05696614\n",
            " -0.07787069 -0.12589519 -0.01737467  0.20686848 -0.06709798  0.13657634\n",
            " -0.15523274  0.03261312 -0.06848145 -0.09354655  0.11214193  0.02235921]\n"
          ]
        },
        {
          "output_type": "stream",
          "name": "stderr",
          "text": [
            "/usr/local/lib/python3.10/dist-packages/ipykernel/ipkernel.py:283: DeprecationWarning: `should_run_async` will not call `transform_cell` automatically in the future. Please pass the result to `transformed_cell` argument and any exception that happen during thetransform in `preprocessing_exc_tuple` in IPython 7.17 and above.\n",
            "  and should_run_async(code)\n"
          ]
        }
      ]
    },
    {
      "cell_type": "markdown",
      "source": [
        "## Step 4: Calculate Similarity Scores\n",
        "We'll measure the cosine similarity between the review embeddings and our positive/negative centroids. Cosine similarity is a measure that tells us how similar two vectors are."
      ],
      "metadata": {
        "id": "JNhXzbttcrqM"
      }
    },
    {
      "cell_type": "code",
      "source": [
        "from sklearn.metrics.pairwise import cosine_similarity\n",
        "\n",
        "# Positive and negative sentiment centroids\n",
        "positive_centroid = positive_sentiment_embedding.reshape(1, -1)  # Reshape to match dimensions\n",
        "negative_centroid = negative_sentiment_embedding.reshape(1, -1)\n",
        "\n",
        "# Calculate cosine similarity between review embeddings and positive/negative centroids\n",
        "subset_df['Cosine_Similarity_Positive'] = subset_df['Positive_Review_Word2Vec'].apply(lambda x: cosine_similarity(x.reshape(1, -1), positive_centroid)[0][0] if x is not None else None)\n",
        "subset_df['Cosine_Similarity_Negative'] = subset_df['Negative_Review_Word2Vec'].apply(lambda x: cosine_similarity(x.reshape(1, -1), negative_centroid)[0][0] if x is not None else None)\n",
        "\n",
        "# Display the first few rows to verify the similarity scores\n",
        "print(subset_df[['Positive_Review', 'Cosine_Similarity_Positive', 'Negative_Review', 'Cosine_Similarity_Negative']].head())\n"
      ],
      "metadata": {
        "colab": {
          "base_uri": "https://localhost:8080/"
        },
        "id": "lKCekra_kFTk",
        "outputId": "b939db3a-4eab-49c8-e7ff-1085b41894f5"
      },
      "execution_count": 21,
      "outputs": [
        {
          "output_type": "stream",
          "name": "stderr",
          "text": [
            "/usr/local/lib/python3.10/dist-packages/ipykernel/ipkernel.py:283: DeprecationWarning: `should_run_async` will not call `transform_cell` automatically in the future. Please pass the result to `transformed_cell` argument and any exception that happen during thetransform in `preprocessing_exc_tuple` in IPython 7.17 and above.\n",
            "  and should_run_async(code)\n"
          ]
        },
        {
          "output_type": "stream",
          "name": "stdout",
          "text": [
            "                                          Positive_Review  \\\n",
            "327357   The staff were SO accommodating to us a young...   \n",
            "271972   Breakfast is excellent and the view is stunning    \n",
            "22048    Professional and very friendly and helpful st...   \n",
            "433239   Super position beds very comfy employees very...   \n",
            "171350   perfectly central for doing London rooms were...   \n",
            "\n",
            "        Cosine_Similarity_Positive  \\\n",
            "327357                    0.519034   \n",
            "271972                    0.615120   \n",
            "22048                     0.706527   \n",
            "433239                    0.515813   \n",
            "171350                    0.577415   \n",
            "\n",
            "                                          Negative_Review  \\\n",
            "327357                                        No Negative   \n",
            "271972   A part of the hotel is under construction so ...   \n",
            "22048    A less noisy aircondition Free coffee in lobb...   \n",
            "433239   First night only decaffeinated coffee in room...   \n",
            "171350                                        No Negative   \n",
            "\n",
            "        Cosine_Similarity_Negative  \n",
            "327357                    0.587099  \n",
            "271972                    0.263873  \n",
            "22048                     0.196500  \n",
            "433239                    0.193712  \n",
            "171350                    0.587099  \n"
          ]
        }
      ]
    },
    {
      "cell_type": "markdown",
      "source": [
        "## Step 5: Compute Sentiment Scores\n",
        "The sentiment score for each review is calculated by subtracting its negative similarity score from its positive similarity score. A higher positive score suggests a positive sentiment and vice versa.\n",
        "\n"
      ],
      "metadata": {
        "id": "ZZlM-ZmQcvMa"
      }
    },
    {
      "cell_type": "code",
      "source": [
        "# Compute sentiment scores\n",
        "subset_df['Sentiment_Score'] = subset_df['Cosine_Similarity_Positive'] - subset_df['Cosine_Similarity_Negative']\n",
        "\n",
        "# Display the first few rows to verify the sentiment scores\n",
        "print(subset_df[['Positive_Review', 'Cosine_Similarity_Positive', 'Negative_Review', 'Cosine_Similarity_Negative', 'Sentiment_Score']].head())\n"
      ],
      "metadata": {
        "colab": {
          "base_uri": "https://localhost:8080/"
        },
        "id": "909uXwkBmOAR",
        "outputId": "7495cd63-255f-4e49-c67a-8d8c8c4094a8"
      },
      "execution_count": 22,
      "outputs": [
        {
          "output_type": "stream",
          "name": "stdout",
          "text": [
            "                                          Positive_Review  \\\n",
            "327357   The staff were SO accommodating to us a young...   \n",
            "271972   Breakfast is excellent and the view is stunning    \n",
            "22048    Professional and very friendly and helpful st...   \n",
            "433239   Super position beds very comfy employees very...   \n",
            "171350   perfectly central for doing London rooms were...   \n",
            "\n",
            "        Cosine_Similarity_Positive  \\\n",
            "327357                    0.519034   \n",
            "271972                    0.615120   \n",
            "22048                     0.706527   \n",
            "433239                    0.515813   \n",
            "171350                    0.577415   \n",
            "\n",
            "                                          Negative_Review  \\\n",
            "327357                                        No Negative   \n",
            "271972   A part of the hotel is under construction so ...   \n",
            "22048    A less noisy aircondition Free coffee in lobb...   \n",
            "433239   First night only decaffeinated coffee in room...   \n",
            "171350                                        No Negative   \n",
            "\n",
            "        Cosine_Similarity_Negative  Sentiment_Score  \n",
            "327357                    0.587099        -0.068065  \n",
            "271972                    0.263873         0.351247  \n",
            "22048                     0.196500         0.510027  \n",
            "433239                    0.193712         0.322101  \n",
            "171350                    0.587099        -0.009684  \n"
          ]
        },
        {
          "output_type": "stream",
          "name": "stderr",
          "text": [
            "/usr/local/lib/python3.10/dist-packages/ipykernel/ipkernel.py:283: DeprecationWarning: `should_run_async` will not call `transform_cell` automatically in the future. Please pass the result to `transformed_cell` argument and any exception that happen during thetransform in `preprocessing_exc_tuple` in IPython 7.17 and above.\n",
            "  and should_run_async(code)\n"
          ]
        }
      ]
    },
    {
      "cell_type": "markdown",
      "source": [
        "## Step 6: Analyze the Results\n",
        "We'll look at the distribution of sentiment scores across the dataset and can summarize the overall sentiment towards the hotels."
      ],
      "metadata": {
        "id": "WLt6HW_GcyUU"
      }
    },
    {
      "cell_type": "code",
      "source": [
        "import matplotlib.pyplot as plt\n",
        "\n",
        "# Plot the distribution of sentiment scores\n",
        "plt.figure(figsize=(8, 6))\n",
        "subset_df['Sentiment_Score'].plot(kind='hist', bins=20, color='skyblue', edgecolor='black')\n",
        "plt.title('Distribution of Sentiment Scores')\n",
        "plt.xlabel('Sentiment Score')\n",
        "plt.ylabel('Frequency')\n",
        "plt.grid(True)\n",
        "plt.show()\n",
        "\n",
        "# Compute summary statistics of sentiment scores\n",
        "summary_stats = subset_df['Sentiment_Score'].describe()\n",
        "print(summary_stats)\n"
      ],
      "metadata": {
        "colab": {
          "base_uri": "https://localhost:8080/",
          "height": 780
        },
        "id": "PuicEcEomZ5R",
        "outputId": "ba43aff7-0cec-42bc-9d59-f8cbf6694b07"
      },
      "execution_count": 23,
      "outputs": [
        {
          "output_type": "stream",
          "name": "stderr",
          "text": [
            "/usr/local/lib/python3.10/dist-packages/ipykernel/ipkernel.py:283: DeprecationWarning: `should_run_async` will not call `transform_cell` automatically in the future. Please pass the result to `transformed_cell` argument and any exception that happen during thetransform in `preprocessing_exc_tuple` in IPython 7.17 and above.\n",
            "  and should_run_async(code)\n"
          ]
        },
        {
          "output_type": "display_data",
          "data": {
            "text/plain": [
              "<Figure size 800x600 with 1 Axes>"
            ],
            "image/png": "[encoded data removed]"
          },
          "metadata": {}
        },
        {
          "output_type": "stream",
          "name": "stdout",
          "text": [
            "count    9924.000000\n",
            "mean        0.089477\n",
            "std         0.209913\n",
            "min        -0.561371\n",
            "25%        -0.051046\n",
            "50%         0.099852\n",
            "75%         0.244802\n",
            "max         0.711168\n",
            "Name: Sentiment_Score, dtype: float64\n"
          ]
        }
      ]
    },
    {
      "cell_type": "markdown",
      "source": [
        "From the histogram, we can observe a few characteristics about your dataset:\n",
        "\n",
        "- The distribution is somewhat normal with a slight skew towards positive sentiment, as indicated by the mean sentiment score being positive (around 0.089).\n",
        "- There's a concentration of scores around the mean, with fewer instances as the scores approach the extremes (-0.6 and 0.6).\n",
        "- The standard deviation is around 0.21, which suggests that there's a moderate spread of sentiment scores around the mean."
      ],
      "metadata": {
        "id": "2gn_pdRVn6y6"
      }
    },
    {
      "cell_type": "markdown",
      "source": [
        "Based on the summary statistics of the sentiment scores:\n",
        "\n",
        "- The count indicates that there are 9924 non-null sentiment scores in the dataset.\n",
        "- The mean sentiment score is approximately 0.089, indicating a slightly positive overall sentiment across the reviews.\n",
        "- The standard deviation (std) of around 0.21 suggests variability in sentiment scores among the reviews.\n",
        "- The minimum sentiment score is approximately -0.561, indicating the most negative sentiment observed in the dataset.\n",
        "- The maximum sentiment score is approximately 0.711, indicating the most positive sentiment observed in the dataset.\n",
        "- The 25th percentile (Q1) is around -0.051, the median (50th percentile or Q2) is around 0.100, and the 75th percentile (Q3) is around 0.245, providing insights into the distribution of sentiment scores."
      ],
      "metadata": {
        "id": "3UTradfkmZsz"
      }
    }
  ],
  "metadata": {
    "kernelspec": {
      "display_name": "Python 3",
      "language": "python",
      "name": "python3"
    },
    "language_info": {
      "codemirror_mode": {
        "name": "ipython",
        "version": 3
      },
      "file_extension": ".py",
      "mimetype": "text/x-python",
      "name": "python",
      "nbconvert_exporter": "python",
      "pygments_lexer": "ipython3",
      "version": "3.11.4"
    },
    "colab": {
      "provenance": []
    }
  },
  "nbformat": 4,
  "nbformat_minor": 0
}